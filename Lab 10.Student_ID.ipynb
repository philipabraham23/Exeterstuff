{
 "cells": [
  {
   "cell_type": "markdown",
   "metadata": {},
   "source": [
    "# BEM 1025: Programming for Business Analytics\n",
    "#   2nd open-book practical exam, March 22nd 2021\n"
   ]
  },
  {
   "cell_type": "markdown",
   "metadata": {},
   "source": [
    "# Provide your first and last name and your student ID in the following cells"
   ]
  },
  {
   "cell_type": "markdown",
   "metadata": {},
   "source": [
    "### First name and last name:"
   ]
  },
  {
   "cell_type": "code",
   "execution_count": null,
   "metadata": {},
   "outputs": [],
   "source": []
  },
  {
   "cell_type": "markdown",
   "metadata": {},
   "source": [
    "### Student ID:"
   ]
  },
  {
   "cell_type": "code",
   "execution_count": null,
   "metadata": {},
   "outputs": [],
   "source": []
  },
  {
   "cell_type": "markdown",
   "metadata": {},
   "source": [
    "# **You need to save this file as PDF that includes the outcome specified for each question. Rename the file with your student ID**"
   ]
  },
  {
   "cell_type": "markdown",
   "metadata": {},
   "source": [
    "<img width=\"300\" height=\"400\" src=\"https://www.dropbox.com/s/p5cwxwdtyxjvafc/Screen%20Shot%202021-03-18%20at%207.39.31%20AM.png?dl=1\">\n"
   ]
  },
  {
   "cell_type": "markdown",
   "metadata": {},
   "source": [
    "# For all questions YOU HAVE TO WRITE SOME CORRECT  PYTHON CODE! simply giving the final answer is not enough!\n"
   ]
  },
  {
   "cell_type": "code",
   "execution_count": 5,
   "metadata": {},
   "outputs": [],
   "source": [
    "alphabet = ['A','C','D','E','F','G','H','I','J','K','L','M','O','R','S','T','U','V','W','X','Y','Z']\n",
    "\n",
    "# break it like below:\n",
    "alphabet = ['A','C','D','E','F','G','H','I','J','K','L','M','O','R', \\\n",
    "            'S','T','U','V','W','X','Y','Z']\n"
   ]
  },
  {
   "cell_type": "markdown",
   "metadata": {},
   "source": [
    "# For all questions YOU HAVE TO WRITE SOME CORRECT  PYTHON CODE! simply giving the final answer is not enough!\n"
   ]
  },
  {
   "cell_type": "code",
   "execution_count": 6,
   "metadata": {},
   "outputs": [],
   "source": [
    "# we import the library pandas and give it the \"pd\" nickname\n",
    "import pandas as pd\n",
    "import numpy as np\n",
    "import seaborn as sns\n",
    "import matplotlib.pyplot as plt\n",
    "import pandas as pd\n",
    "import numpy as np"
   ]
  },
  {
   "cell_type": "markdown",
   "metadata": {},
   "source": [
    "### You will work on the following dataframe for this assignment\n",
    "#### 30,478 Airbnb listings in New York City. This data was compiled from http://insideairbnb.com/:\n"
   ]
  },
  {
   "cell_type": "code",
   "execution_count": 7,
   "metadata": {},
   "outputs": [
    {
     "data": {
      "text/html": [
       "<div>\n",
       "<style scoped>\n",
       "    .dataframe tbody tr th:only-of-type {\n",
       "        vertical-align: middle;\n",
       "    }\n",
       "\n",
       "    .dataframe tbody tr th {\n",
       "        vertical-align: top;\n",
       "    }\n",
       "\n",
       "    .dataframe thead th {\n",
       "        text-align: right;\n",
       "    }\n",
       "</style>\n",
       "<table border=\"1\" class=\"dataframe\">\n",
       "  <thead>\n",
       "    <tr style=\"text-align: right;\">\n",
       "      <th></th>\n",
       "      <th>Host Id</th>\n",
       "      <th>Host Since</th>\n",
       "      <th>Name</th>\n",
       "      <th>Neighbourhood</th>\n",
       "      <th>Property Type</th>\n",
       "      <th>Room Type</th>\n",
       "      <th>Zipcode</th>\n",
       "      <th>Beds</th>\n",
       "      <th>Number Of Reviews</th>\n",
       "      <th>Price</th>\n",
       "      <th>Review Scores Rating</th>\n",
       "    </tr>\n",
       "  </thead>\n",
       "  <tbody>\n",
       "    <tr>\n",
       "      <th>0</th>\n",
       "      <td>500</td>\n",
       "      <td>2008-06-26</td>\n",
       "      <td>Trendy Times Square Loft</td>\n",
       "      <td>Manhattan</td>\n",
       "      <td>Apartment</td>\n",
       "      <td>Private room</td>\n",
       "      <td>10036.0</td>\n",
       "      <td>3.0</td>\n",
       "      <td>39</td>\n",
       "      <td>549</td>\n",
       "      <td>96.0</td>\n",
       "    </tr>\n",
       "    <tr>\n",
       "      <th>1</th>\n",
       "      <td>1039</td>\n",
       "      <td>2008-07-25</td>\n",
       "      <td>Big Greenpoint 1BD w/ Skyline View</td>\n",
       "      <td>Brooklyn</td>\n",
       "      <td>Apartment</td>\n",
       "      <td>Entire home/apt</td>\n",
       "      <td>11222.0</td>\n",
       "      <td>1.0</td>\n",
       "      <td>4</td>\n",
       "      <td>149</td>\n",
       "      <td>100.0</td>\n",
       "    </tr>\n",
       "    <tr>\n",
       "      <th>2</th>\n",
       "      <td>1783</td>\n",
       "      <td>2008-08-12</td>\n",
       "      <td>Amazing Also</td>\n",
       "      <td>Manhattan</td>\n",
       "      <td>Apartment</td>\n",
       "      <td>Entire home/apt</td>\n",
       "      <td>10004.0</td>\n",
       "      <td>1.0</td>\n",
       "      <td>9</td>\n",
       "      <td>250</td>\n",
       "      <td>100.0</td>\n",
       "    </tr>\n",
       "    <tr>\n",
       "      <th>3</th>\n",
       "      <td>2078</td>\n",
       "      <td>2008-08-15</td>\n",
       "      <td>Colorful, quiet, &amp; near the subway!</td>\n",
       "      <td>Brooklyn</td>\n",
       "      <td>Apartment</td>\n",
       "      <td>Private room</td>\n",
       "      <td>11201.0</td>\n",
       "      <td>1.0</td>\n",
       "      <td>80</td>\n",
       "      <td>90</td>\n",
       "      <td>94.0</td>\n",
       "    </tr>\n",
       "    <tr>\n",
       "      <th>4</th>\n",
       "      <td>2339</td>\n",
       "      <td>2008-08-20</td>\n",
       "      <td>East Village Cocoon: 2 Bedroom Flat</td>\n",
       "      <td>Manhattan</td>\n",
       "      <td>Apartment</td>\n",
       "      <td>Entire home/apt</td>\n",
       "      <td>10009.0</td>\n",
       "      <td>2.0</td>\n",
       "      <td>95</td>\n",
       "      <td>270</td>\n",
       "      <td>90.0</td>\n",
       "    </tr>\n",
       "  </tbody>\n",
       "</table>\n",
       "</div>"
      ],
      "text/plain": [
       "   Host Id  Host Since                                 Name Neighbourhood  \\\n",
       "0      500  2008-06-26             Trendy Times Square Loft     Manhattan   \n",
       "1     1039  2008-07-25   Big Greenpoint 1BD w/ Skyline View      Brooklyn   \n",
       "2     1783  2008-08-12                         Amazing Also     Manhattan   \n",
       "3     2078  2008-08-15  Colorful, quiet, & near the subway!      Brooklyn   \n",
       "4     2339  2008-08-20  East Village Cocoon: 2 Bedroom Flat     Manhattan   \n",
       "\n",
       "  Property Type        Room Type  Zipcode  Beds  Number Of Reviews  Price  \\\n",
       "0     Apartment     Private room  10036.0   3.0                 39    549   \n",
       "1     Apartment  Entire home/apt  11222.0   1.0                  4    149   \n",
       "2     Apartment  Entire home/apt  10004.0   1.0                  9    250   \n",
       "3     Apartment     Private room  11201.0   1.0                 80     90   \n",
       "4     Apartment  Entire home/apt  10009.0   2.0                 95    270   \n",
       "\n",
       "   Review Scores Rating  \n",
       "0                  96.0  \n",
       "1                 100.0  \n",
       "2                 100.0  \n",
       "3                  94.0  \n",
       "4                  90.0  "
      ]
     },
     "execution_count": 7,
     "metadata": {},
     "output_type": "execute_result"
    }
   ],
   "source": [
    "# we load data from an excel file and select bunch of relevant columns\n",
    "df=pd.read_csv('https://www.dropbox.com/s/1au68f79pst5b71/airbnb.csv?dl=1')\n",
    "\n",
    "columns=['Host Id','Host Since','Name',\"Neighbourhood\",'Property Type','Room Type','Zipcode','Beds', \\\n",
    "         'Number Of Reviews','Price','Review Scores Rating']\n",
    "df=df[columns]\n",
    "# we remove missing values\n",
    "df.dropna(inplace=True)\n",
    "df.head()"
   ]
  },
  {
   "cell_type": "code",
   "execution_count": 8,
   "metadata": {},
   "outputs": [
    {
     "data": {
      "text/plain": [
       "Index(['Host Id', 'Host Since', 'Name', 'Neighbourhood', 'Property Type',\n",
       "       'Room Type', 'Zipcode', 'Beds', 'Number Of Reviews', 'Price',\n",
       "       'Review Scores Rating'],\n",
       "      dtype='object')"
      ]
     },
     "execution_count": 8,
     "metadata": {},
     "output_type": "execute_result"
    }
   ],
   "source": [
    "df.columns"
   ]
  },
  {
   "cell_type": "code",
   "execution_count": 9,
   "metadata": {},
   "outputs": [
    {
     "name": "stdout",
     "output_type": "stream",
     "text": [
      "<class 'pandas.core.frame.DataFrame'>\n",
      "Int64Index: 22010 entries, 0 to 22009\n",
      "Data columns (total 11 columns):\n",
      "Host Id                 22010 non-null int64\n",
      "Host Since              22010 non-null object\n",
      "Name                    22010 non-null object\n",
      "Neighbourhood           22010 non-null object\n",
      "Property Type           22010 non-null object\n",
      "Room Type               22010 non-null object\n",
      "Zipcode                 22010 non-null float64\n",
      "Beds                    22010 non-null float64\n",
      "Number Of Reviews       22010 non-null int64\n",
      "Price                   22010 non-null int64\n",
      "Review Scores Rating    22010 non-null float64\n",
      "dtypes: float64(3), int64(3), object(5)\n",
      "memory usage: 2.0+ MB\n"
     ]
    }
   ],
   "source": [
    "df.info()"
   ]
  },
  {
   "cell_type": "markdown",
   "metadata": {},
   "source": [
    "## Assignment 1 (20%)\n",
    "### Find properties with 3 or more beds, price range 100-700 (including 100 and 700), rated above 90 and containing word 'stops' or 'subway' in their names.\n",
    "\n",
    "### **OUTCOME:** Provide the **head** and **shape** of the outcome dataframe"
   ]
  },
  {
   "cell_type": "code",
   "execution_count": null,
   "metadata": {},
   "outputs": [],
   "source": []
  },
  {
   "cell_type": "markdown",
   "metadata": {},
   "source": [
    "## Assignment 2 (20%)\n",
    "### Find the 5 most expensive zipcodes to rent Airbnb in NYC\n",
    "\n",
    "### **OUTCOME:** Provide the list of the 5 zipcodes (and their corresponding neighbourhoods)\n",
    "### Tip: you need to find the average price for all given zipcodes (and their corresponding neighbourhood) and then sort them descendingly by price"
   ]
  },
  {
   "cell_type": "code",
   "execution_count": null,
   "metadata": {},
   "outputs": [],
   "source": []
  },
  {
   "cell_type": "markdown",
   "metadata": {},
   "source": [
    "## Assignment 3 (20%)\n",
    "### Transform the dataframe into a long dataframe to include a column representing Neighbourhood, Property Type, and Room Type and a column representing its value\n",
    "\n",
    "### **OUTCOME:** Provide the **head** and **shape** of the outcome"
   ]
  },
  {
   "cell_type": "code",
   "execution_count": null,
   "metadata": {},
   "outputs": [],
   "source": []
  },
  {
   "cell_type": "markdown",
   "metadata": {},
   "source": [
    "## Assignment 4 (20%)\n",
    "### Plot the relationship between year since  Hosts joined Airbnb and their average Review Scores Rating for various Room Type\n",
    "\n",
    "### **OUTCOME:** Create a plot where x represents year  hosts joined Airbnb, y represents average Review Scores Rating, and lines with different colors represent Room Type\n",
    "\n",
    "### Tip: You need to group and average by year (use pd.Grouper and Groupby) and then plot using seaborn"
   ]
  },
  {
   "cell_type": "markdown",
   "metadata": {},
   "source": [
    "https://pandas.pydata.org/pandas-docs/stable/reference/api/pandas.Grouper.html"
   ]
  },
  {
   "cell_type": "code",
   "execution_count": null,
   "metadata": {},
   "outputs": [],
   "source": []
  },
  {
   "cell_type": "markdown",
   "metadata": {},
   "source": [
    "## Assignment 5 (20%)\n",
    "### For properties cheaper than 1000, Plot the relationship between Review Scores Rating  and price for various Neighbourhoods and Room Types\n",
    "\n",
    "### **OUTCOME:** Create a facet plot where x represents 'Review Scores Rating', y represents Price, color represents Room Type, columns represent Neighborhoods\n",
    "### Tip: you need to combine FacetGrid with plt.scatter"
   ]
  },
  {
   "cell_type": "code",
   "execution_count": null,
   "metadata": {},
   "outputs": [],
   "source": []
  },
  {
   "cell_type": "markdown",
   "metadata": {},
   "source": [
    "## Assignment 6 (Extra credit 10%)\n",
    "### Create a table where Room types are on the columns, Neibourhood and Property Type are on the rows, and average price are shown in the cells \n",
    "\n",
    "### **OUTCOME:** Like the following table"
   ]
  },
  {
   "cell_type": "markdown",
   "metadata": {},
   "source": [
    "<img src=\"https://www.dropbox.com/s/5b8sz7wujyhl8d3/Screen%20Shot%202021-03-02%20at%201.51.34%20PM.png?dl=1\">\n"
   ]
  },
  {
   "cell_type": "code",
   "execution_count": null,
   "metadata": {},
   "outputs": [],
   "source": []
  },
  {
   "cell_type": "markdown",
   "metadata": {},
   "source": [
    "# "
   ]
  }
 ],
 "metadata": {
  "kernelspec": {
   "display_name": "py36",
   "language": "python",
   "name": "python3"
  },
  "language_info": {
   "codemirror_mode": {
    "name": "ipython",
    "version": 3
   },
   "file_extension": ".py",
   "mimetype": "text/x-python",
   "name": "python",
   "nbconvert_exporter": "python",
   "pygments_lexer": "ipython3",
   "version": "3.6.6"
  }
 },
 "nbformat": 4,
 "nbformat_minor": 4
}
